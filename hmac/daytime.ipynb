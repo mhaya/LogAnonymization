{
 "cells": [
  {
   "cell_type": "code",
   "execution_count": 148,
   "metadata": {
    "collapsed": true
   },
   "outputs": [],
   "source": [
    "import numpy as np\n",
    "import pandas as pd\n",
    "import pylab as pl\n",
    "import matplotlib.pyplot as plt\n",
    "\n",
    "%matplotlib inline\n",
    "\n",
    "df = pd.read_csv('tmp/session_e.csv')"
   ]
  },
  {
   "cell_type": "code",
   "execution_count": 2,
   "metadata": {
    "collapsed": false
   },
   "outputs": [
    {
     "data": {
      "text/plain": [
       "Unnamed: 0              int64\n",
       "Unnamed: 0.1            int64\n",
       "Unnamed: 0.1.1          int64\n",
       "Unnamed: 0.1.1          int64\n",
       "ID                      int64\n",
       "Serial                  int64\n",
       "SrcIP                  object\n",
       "DstIP                  object\n",
       "SessionID               int64\n",
       "SrcPort                 int64\n",
       "DstPort                 int64\n",
       "Flags                  object\n",
       "Proto                  object\n",
       "SrcPortCls0           float64\n",
       "SrcPortCls1           float64\n",
       "SrcPortCls2           float64\n",
       "SrcPortCls3           float64\n",
       "SrcPortCls4           float64\n",
       "SrcPortCls5           float64\n",
       "DstPortCls0           float64\n",
       "DstPortCls1           float64\n",
       "DstPortCls2           float64\n",
       "DstPortCls3           float64\n",
       "DstPortCls4           float64\n",
       "DstPortCls5           float64\n",
       "Bytes                   int64\n",
       "Bytes Sent              int64\n",
       "Bytes Received          int64\n",
       "Packets                 int64\n",
       "Start Time             object\n",
       "Elapsed Time (sec)      int64\n",
       "Bytes2                float64\n",
       "Bytes3                float64\n",
       "ElapsedTime2          float64\n",
       "ElapsedTime3          float64\n",
       "dtype: object"
      ]
     },
     "execution_count": 2,
     "metadata": {},
     "output_type": "execute_result"
    }
   ],
   "source": [
    "df.dtypes"
   ]
  },
  {
   "cell_type": "code",
   "execution_count": 149,
   "metadata": {
    "collapsed": false
   },
   "outputs": [],
   "source": [
    "import datetime, time\n",
    "date_time = []\n",
    "for x in df['Start Time']:\n",
    "    date_time.append(int(time.mktime(time.strptime(x,\"%Y/%m/%d %H:%M\"))))\n",
    "    \n",
    "df['Start Time2'] = date_time"
   ]
  },
  {
   "cell_type": "code",
   "execution_count": 21,
   "metadata": {
    "collapsed": false
   },
   "outputs": [
    {
     "data": {
      "image/png": "[encoded data removed]",
      "text/plain": [
       "<matplotlib.figure.Figure at 0x106a16590>"
      ]
     },
     "metadata": {},
     "output_type": "display_data"
    }
   ],
   "source": [
    "pl.figure(figsize=(12, 6))\n",
    "p = df.groupby('Start Time2')['Start Time2'].count().plot.bar()\n",
    "p.tick_params(labelbottom='off',top='off',bottom='off')\n",
    "p.set_yscale('log')\n",
    "fig = p.get_figure()\n",
    "fig.savefig('tmp/datime00.png')"
   ]
  },
  {
   "cell_type": "code",
   "execution_count": 30,
   "metadata": {
    "collapsed": false
   },
   "outputs": [
    {
     "name": "stdout",
     "output_type": "stream",
     "text": [
      "1486951380\n",
      "1487038020\n"
     ]
    }
   ],
   "source": [
    "print min(df['Start Time2'])\n",
    "print max(df['Start Time2'])"
   ]
  },
  {
   "cell_type": "code",
   "execution_count": 231,
   "metadata": {
    "collapsed": false
   },
   "outputs": [],
   "source": [
    "df['Start Time3'] = df['Start Time2']+100\n",
    "\n"
   ]
  },
  {
   "cell_type": "code",
   "execution_count": 236,
   "metadata": {
    "collapsed": false
   },
   "outputs": [
    {
     "data": {
      "image/png": "[encoded data removed]",
      "text/plain": [
       "<matplotlib.figure.Figure at 0x1407d3790>"
      ]
     },
     "metadata": {},
     "output_type": "display_data"
    }
   ],
   "source": [
    "c0 = df.groupby('Start Time2')['Start Time2'].count()\n",
    "c1 = df.groupby('Start Time3')['Start Time3'].count()\n",
    "\n",
    "tmp = pd.concat([c0,c1],axis=1)\n",
    "ax= tmp.plot.bar(figsize=(12,6),alpha=0.5,width=2,edgecolor=\"none\")\n",
    "ax.tick_params(labelbottom='off',top='off',bottom='off')\n",
    "ax.set_yscale('log')\n",
    "fig = ax.get_figure()\n",
    "fig.savefig('tmp/datime01.png')"
   ]
  },
  {
   "cell_type": "code",
   "execution_count": null,
   "metadata": {
    "collapsed": true
   },
   "outputs": [],
   "source": []
  }
 ],
 "metadata": {
  "kernelspec": {
   "display_name": "Python 2",
   "language": "python",
   "name": "python2"
  },
  "language_info": {
   "codemirror_mode": {
    "name": "ipython",
    "version": 2
   },
   "file_extension": ".py",
   "mimetype": "text/x-python",
   "name": "python",
   "nbconvert_exporter": "python",
   "pygments_lexer": "ipython2",
   "version": "2.7.10"
  }
 },
 "nbformat": 4,
 "nbformat_minor": 0
}
