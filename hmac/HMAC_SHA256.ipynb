{
 "cells": [
  {
   "cell_type": "markdown",
   "metadata": {
    "collapsed": true
   },
   "source": [
    "# HMAC-SHA256 でIPアドレスを仮名化"
   ]
  },
  {
   "cell_type": "code",
   "execution_count": 12,
   "metadata": {
    "collapsed": false
   },
   "outputs": [
    {
     "name": "stdout",
     "output_type": "stream",
     "text": [
      "67fc5539637305c38e3256cfa11ca196a22f3c02fba6016018a2da45d0b90765\n",
      "67fc5539637305c38e3256cfa11ca196a22f3c02fba6016018a2da45d0b90765\n",
      "d4877bfec686040daf976a0846afccc0deffef9cb9b7f5e4d771f49833d61853\n"
     ]
    }
   ],
   "source": [
    "import hmac\n",
    "import hashlib\n",
    "import Crypto.Cipher.AES\n",
    "import socket\n",
    "import struct\n",
    "from array import array\n",
    "import ipaddress\n",
    "import numpy as np\n",
    "\n",
    "key = \"secret\"\n",
    "text = \"192.168.0.\"\n",
    "signature = hmac.new(key,text,hashlib.sha256).hexdigest()\n",
    "print signature\n",
    "text = \"192.168.0.\"\n",
    "signature = hmac.new(key,text,hashlib.sha256).hexdigest()\n",
    "print signature\n",
    "key = \"secret2\"\n",
    "text = \"192.168.0.\"\n",
    "signature = hmac.new(key,text,hashlib.sha256).hexdigest()\n",
    "print signature"
   ]
  },
  {
   "cell_type": "code",
   "execution_count": 34,
   "metadata": {
    "collapsed": false
   },
   "outputs": [],
   "source": [
    "ip=ipaddress.ip_address(u\"255.255.255.255\")"
   ]
  },
  {
   "cell_type": "code",
   "execution_count": 35,
   "metadata": {
    "collapsed": false
   },
   "outputs": [
    {
     "data": {
      "text/plain": [
       "IPv4Address(u'255.255.255.255')"
      ]
     },
     "execution_count": 35,
     "metadata": {},
     "output_type": "execute_result"
    }
   ],
   "source": [
    "ip"
   ]
  },
  {
   "cell_type": "code",
   "execution_count": 36,
   "metadata": {
    "collapsed": true
   },
   "outputs": [],
   "source": [
    "addr = int(ip)"
   ]
  },
  {
   "cell_type": "code",
   "execution_count": 37,
   "metadata": {
    "collapsed": false
   },
   "outputs": [
    {
     "data": {
      "text/plain": [
       "4294967295"
      ]
     },
     "execution_count": 37,
     "metadata": {},
     "output_type": "execute_result"
    }
   ],
   "source": [
    "addr"
   ]
  },
  {
   "cell_type": "code",
   "execution_count": 38,
   "metadata": {
    "collapsed": false
   },
   "outputs": [
    {
     "name": "stdout",
     "output_type": "stream",
     "text": [
      "addr:\n",
      "11111111111111111111111111111111\n"
     ]
    }
   ],
   "source": [
    "print \"addr:\\n\",format(addr,'032b')"
   ]
  },
  {
   "cell_type": "code",
   "execution_count": 39,
   "metadata": {
    "collapsed": false
   },
   "outputs": [
    {
     "name": "stdout",
     "output_type": "stream",
     "text": [
      "addr:\n",
      "11111111111111111111111100000000\n"
     ]
    }
   ],
   "source": [
    "net = addr >> 8 << 8\n",
    "print \"addr:\\n\",format(net,'032b')"
   ]
  },
  {
   "cell_type": "code",
   "execution_count": 40,
   "metadata": {
    "collapsed": false
   },
   "outputs": [
    {
     "data": {
      "text/plain": [
       "IPv4Address(u'255.255.255.0')"
      ]
     },
     "execution_count": 40,
     "metadata": {},
     "output_type": "execute_result"
    }
   ],
   "source": [
    "ipaddress.IPv4Address(net)"
   ]
  },
  {
   "cell_type": "code",
   "execution_count": 66,
   "metadata": {
    "collapsed": false
   },
   "outputs": [
    {
     "name": "stdout",
     "output_type": "stream",
     "text": [
      "addr:\n",
      "00000000000000000000000011111111\n"
     ]
    }
   ],
   "source": [
    "host = addr & (2**8-1) \n",
    "print \"addr:\\n\",format(host,'032b')"
   ]
  },
  {
   "cell_type": "code",
   "execution_count": 67,
   "metadata": {
    "collapsed": false
   },
   "outputs": [
    {
     "data": {
      "text/plain": [
       "IPv4Address(u'0.0.0.255')"
      ]
     },
     "execution_count": 67,
     "metadata": {},
     "output_type": "execute_result"
    }
   ],
   "source": [
    "ipaddress.IPv4Address(host)"
   ]
  },
  {
   "cell_type": "code",
   "execution_count": 68,
   "metadata": {
    "collapsed": false
   },
   "outputs": [
    {
     "data": {
      "text/plain": [
       "'1111111111111111111111111111111100000000'"
      ]
     },
     "execution_count": 68,
     "metadata": {},
     "output_type": "execute_result"
    }
   ],
   "source": []
  },
  {
   "cell_type": "code",
   "execution_count": 72,
   "metadata": {
    "collapsed": false
   },
   "outputs": [
    {
     "data": {
      "text/plain": [
       "256"
      ]
     },
     "execution_count": 72,
     "metadata": {},
     "output_type": "execute_result"
    }
   ],
   "source": [
    "2**8"
   ]
  },
  {
   "cell_type": "code",
   "execution_count": 73,
   "metadata": {
    "collapsed": true
   },
   "outputs": [],
   "source": [
    "ip=ipaddress.ip_address(u\"192.168.0.1\")"
   ]
  },
  {
   "cell_type": "code",
   "execution_count": 74,
   "metadata": {
    "collapsed": true
   },
   "outputs": [],
   "source": [
    "addr = int(ip)"
   ]
  },
  {
   "cell_type": "code",
   "execution_count": 101,
   "metadata": {
    "collapsed": false
   },
   "outputs": [
    {
     "name": "stdout",
     "output_type": "stream",
     "text": [
      "192.168.0.0\n",
      "a8d0041786413438397fad8ca9ac76b953a3d69eae02c71f80260c1a504b1f7f\n"
     ]
    }
   ],
   "source": [
    "key = \"secret\"\n",
    "ip=ipaddress.ip_address(u\"192.168.0.0\")\n",
    "print ip.exploded\n",
    "signature = hmac.new(key,ip.exploded,hashlib.sha256).hexdigest()\n",
    "print signature"
   ]
  },
  {
   "cell_type": "code",
   "execution_count": 104,
   "metadata": {
    "collapsed": false
   },
   "outputs": [
    {
     "name": "stdout",
     "output_type": "stream",
     "text": [
      "192.168.1.0\n",
      "8c3846806237fb162152c5aa3a6f33402a887c8aaddcb429e7e7035b6c2e4ef0\n"
     ]
    }
   ],
   "source": [
    "key = \"secret\"\n",
    "ip=ipaddress.ip_address(u\"192.168.1.0\")\n",
    "print ip.exploded\n",
    "signature = hmac.new(key,ip.exploded,hashlib.sha256).hexdigest()\n",
    "print signature"
   ]
  },
  {
   "cell_type": "code",
   "execution_count": null,
   "metadata": {
    "collapsed": false
   },
   "outputs": [],
   "source": []
  },
  {
   "cell_type": "code",
   "execution_count": 99,
   "metadata": {
    "collapsed": false
   },
   "outputs": [
    {
     "data": {
      "text/plain": [
       "u'2001:0db8:0000:0000:0000:0000:0000:0000'"
      ]
     },
     "execution_count": 99,
     "metadata": {},
     "output_type": "execute_result"
    }
   ],
   "source": []
  },
  {
   "cell_type": "code",
   "execution_count": 102,
   "metadata": {
    "collapsed": false
   },
   "outputs": [
    {
     "name": "stdout",
     "output_type": "stream",
     "text": [
      "2001:0db8:0000:0000:0000:0000:0000:0000\n",
      "b57bc65d1bfb665858bdf45ee0ebc984115c63734223be206e35d53781a91694\n"
     ]
    }
   ],
   "source": [
    "ip=ipaddress.ip_address(u\"2001:db8::0\")\n",
    "print ip.exploded\n",
    "signature = hmac.new(key,ip.exploded,hashlib.sha256).hexdigest()\n",
    "print signature"
   ]
  },
  {
   "cell_type": "code",
   "execution_count": null,
   "metadata": {
    "collapsed": true
   },
   "outputs": [],
   "source": []
  },
  {
   "cell_type": "code",
   "execution_count": 106,
   "metadata": {
    "collapsed": false
   },
   "outputs": [
    {
     "name": "stdout",
     "output_type": "stream",
     "text": [
      "2001:0db8:0000:0000:0008:0800:200c:0000\n",
      "6e7f8162892efa041d94188f4ad19a1e9968535d735133ef17cd01e60db832ac\n"
     ]
    }
   ],
   "source": [
    "ip=ipaddress.ip_address(u\"2001:DB8:0:0:8:800:200C:0\")\n",
    "print ip.exploded\n",
    "signature = hmac.new(key,ip.exploded,hashlib.sha256).hexdigest()\n",
    "print signature"
   ]
  },
  {
   "cell_type": "code",
   "execution_count": 107,
   "metadata": {
    "collapsed": false
   },
   "outputs": [
    {
     "name": "stdout",
     "output_type": "stream",
     "text": [
      "2001:0db8:0000:0000:0008:0800:200c:0000\n",
      "6e7f8162892efa041d94188f4ad19a1e9968535d735133ef17cd01e60db832ac\n"
     ]
    }
   ],
   "source": [
    "ip=ipaddress.ip_address(u\"2001:DB8:0:0:8:800:200C:0\")\n",
    "print ip.exploded\n",
    "signature = hmac.new(key,ip.exploded,hashlib.sha256).hexdigest()\n",
    "print signature"
   ]
  },
  {
   "cell_type": "code",
   "execution_count": null,
   "metadata": {
    "collapsed": true
   },
   "outputs": [],
   "source": []
  }
 ],
 "metadata": {
  "kernelspec": {
   "display_name": "Python 2",
   "language": "python",
   "name": "python2"
  },
  "language_info": {
   "codemirror_mode": {
    "name": "ipython",
    "version": 2
   },
   "file_extension": ".py",
   "mimetype": "text/x-python",
   "name": "python",
   "nbconvert_exporter": "python",
   "pygments_lexer": "ipython2",
   "version": "2.7.10"
  }
 },
 "nbformat": 4,
 "nbformat_minor": 0
}
