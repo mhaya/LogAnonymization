{
 "cells": [
  {
   "cell_type": "markdown",
   "metadata": {},
   "source": [
    "# Bytes generalization"
   ]
  },
  {
   "cell_type": "code",
   "execution_count": 1,
   "metadata": {
    "collapsed": true
   },
   "outputs": [],
   "source": [
    "import numpy as np\n",
    "import pandas as pd\n",
    "import pylab as pl\n",
    "import matplotlib.pyplot as plt\n",
    "\n",
    "%matplotlib inline\n",
    "\n",
    "df = pd.read_csv('tmp/session_c.csv')"
   ]
  },
  {
   "cell_type": "code",
   "execution_count": 2,
   "metadata": {
    "collapsed": false
   },
   "outputs": [
    {
     "data": {
      "text/plain": [
       "Unnamed: 0              int64\n",
       "Unnamed: 0.1            int64\n",
       "ID                      int64\n",
       "Serial                  int64\n",
       "SrcIP                  object\n",
       "DstIP                  object\n",
       "SessionID               int64\n",
       "SrcPort                 int64\n",
       "DstPort                 int64\n",
       "Flags                  object\n",
       "Proto                  object\n",
       "SrcPortCls0           float64\n",
       "SrcPortCls1           float64\n",
       "SrcPortCls2           float64\n",
       "SrcPortCls3           float64\n",
       "SrcPortCls4           float64\n",
       "SrcPortCls5           float64\n",
       "DstPortCls0           float64\n",
       "DstPortCls1           float64\n",
       "DstPortCls2           float64\n",
       "DstPortCls3           float64\n",
       "DstPortCls4           float64\n",
       "DstPortCls5           float64\n",
       "Bytes                   int64\n",
       "Bytes Sent              int64\n",
       "Bytes Received          int64\n",
       "Packets                 int64\n",
       "Start Time             object\n",
       "Elapsed Time (sec)      int64\n",
       "dtype: object"
      ]
     },
     "execution_count": 2,
     "metadata": {},
     "output_type": "execute_result"
    }
   ],
   "source": [
    "df.dtypes"
   ]
  },
  {
   "cell_type": "code",
   "execution_count": 40,
   "metadata": {
    "collapsed": false
   },
   "outputs": [
    {
     "data": {
      "image/png": "[encoded data removed]",
      "text/plain": [
       "<matplotlib.figure.Figure at 0x127b94950>"
      ]
     },
     "metadata": {},
     "output_type": "display_data"
    }
   ],
   "source": [
    "pl.figure(figsize=(12, 6))\n",
    "p=df.groupby('Bytes')['Bytes'].count().plot.bar(width=2,edgecolor='blue',color='blue')\n",
    "p.tick_params(labelbottom='off',top='off',bottom='off')\n",
    "p.set_yscale('log')\n",
    "fig = p.get_figure()\n",
    "fig.savefig('tmp/bytes000.png')"
   ]
  },
  {
   "cell_type": "code",
   "execution_count": 41,
   "metadata": {
    "collapsed": false
   },
   "outputs": [
    {
     "data": {
      "image/png": "[encoded data removed]",
      "text/plain": [
       "<matplotlib.figure.Figure at 0x124976c50>"
      ]
     },
     "metadata": {},
     "output_type": "display_data"
    }
   ],
   "source": [
    "df['Bytes2']=np.floor(df.Bytes/10)*10+10\n",
    "pl.figure(figsize=(12, 6))\n",
    "p=df.groupby('Bytes2')['Bytes2'].count().plot.bar(width=2,edgecolor='blue',color='blue')\n",
    "p.tick_params(labelbottom='off',top='off',bottom='off')\n",
    "p.set_yscale('log')\n",
    "fig = p.get_figure()\n",
    "fig.savefig('tmp/bytes001.png')"
   ]
  },
  {
   "cell_type": "code",
   "execution_count": 42,
   "metadata": {
    "collapsed": false
   },
   "outputs": [
    {
     "data": {
      "image/png": "[encoded data removed]",
      "text/plain": [
       "<matplotlib.figure.Figure at 0x12faafad0>"
      ]
     },
     "metadata": {},
     "output_type": "display_data"
    }
   ],
   "source": [
    "df['Bytes3']=np.floor(df.Bytes/100)*100+100\n",
    "pl.figure(figsize=(12, 6))\n",
    "p=df.groupby('Bytes3')['Bytes3'].count().plot.bar(width=2,edgecolor='blue',color='blue')\n",
    "p.tick_params(labelbottom='off',top='off',bottom='off')\n",
    "p.set_yscale('log')\n",
    "fig = p.get_figure()\n",
    "fig.savefig('tmp/bytes002.png')"
   ]
  },
  {
   "cell_type": "code",
   "execution_count": 43,
   "metadata": {
    "collapsed": true
   },
   "outputs": [],
   "source": [
    "df.to_csv('tmp/session_d.csv')"
   ]
  },
  {
   "cell_type": "code",
   "execution_count": null,
   "metadata": {
    "collapsed": true
   },
   "outputs": [],
   "source": []
  }
 ],
 "metadata": {
  "kernelspec": {
   "display_name": "Python 2",
   "language": "python",
   "name": "python2"
  },
  "language_info": {
   "codemirror_mode": {
    "name": "ipython",
    "version": 2
   },
   "file_extension": ".py",
   "mimetype": "text/x-python",
   "name": "python",
   "nbconvert_exporter": "python",
   "pygments_lexer": "ipython2",
   "version": "2.7.10"
  }
 },
 "nbformat": 4,
 "nbformat_minor": 0
}
