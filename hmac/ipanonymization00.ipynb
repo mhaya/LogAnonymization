{
 "cells": [
  {
   "cell_type": "markdown",
   "metadata": {},
   "source": [
    "# HMAC-SHA256 でIPアドレスを仮名化"
   ]
  },
  {
   "cell_type": "code",
   "execution_count": 54,
   "metadata": {
    "collapsed": false
   },
   "outputs": [],
   "source": [
    "import numpy as np\n",
    "import pandas as pd\n",
    "import pylab as pl\n",
    "import matplotlib.pyplot as plt\n",
    "import hmac\n",
    "import hashlib\n",
    "import ipaddress\n",
    "\n",
    "\n",
    "%matplotlib inline\n",
    "\n",
    "df = pd.read_csv('session0.csv')\n",
    "\n",
    "key = \"secret\"\n",
    "b = 8\n",
    "\n",
    "def anonymized(x):\n",
    "    ipaddr=ipaddress.ip_address(x)\n",
    "    prefix = int(ipaddr) >> b << b\n",
    "    netaddr=ipaddress.ip_address(prefix)\n",
    "    signature = hmac.new(key,netaddr.exploded,hashlib.sha256).hexdigest()\n",
    "    suffix = int(ipaddr) & (2**b-1)\n",
    "    anonymizedIP = signature +  format(suffix,\"04x\")\n",
    "    return anonymizedIP\n",
    "\n",
    "y = []\n",
    "for x in df['SrcIP']:\n",
    "    y.append(anonymized(unicode(x)))\n",
    "\n",
    "df['SrcIP'] = y\n",
    "\n",
    "y = []\n",
    "for x in df['DstIP']:\n",
    "    y.append(anonymized(unicode(x)))\n",
    "\n",
    "df['DstIP'] = y\n",
    "\n",
    "df.to_csv('session1.csv')\n"
   ]
  },
  {
   "cell_type": "code",
   "execution_count": null,
   "metadata": {
    "collapsed": true
   },
   "outputs": [],
   "source": []
  }
 ],
 "metadata": {
  "kernelspec": {
   "display_name": "Python 2",
   "language": "python",
   "name": "python2"
  },
  "language_info": {
   "codemirror_mode": {
    "name": "ipython",
    "version": 2
   },
   "file_extension": ".py",
   "mimetype": "text/x-python",
   "name": "python",
   "nbconvert_exporter": "python",
   "pygments_lexer": "ipython2",
   "version": "2.7.10"
  }
 },
 "nbformat": 4,
 "nbformat_minor": 0
}
