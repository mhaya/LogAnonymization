{
 "cells": [
  {
   "cell_type": "markdown",
   "metadata": {},
   "source": [
    "# Crypto-PAn(Cryptography-based  Prefix-preserving Anonymization) アルゴリズムの理解\n",
    "\n",
    "\n",
    "prefix preserving な　IPアドレス匿名化手法\n",
    "\n",
    "参考：\n",
    "- http://www.cc.gatech.edu/computing/Networking/projects/cryptopan/\n",
    "- Jinliang Fan, Jun Xu, Mostafa H. Ammar, Sue B. Moon, Prefix-preserving IP address anonymization: measurement-based security evaluation and a new cryptography-based scheme, Computer Networks, Volume 46, Issue 2, 7 October 2004, Pages 253-272, ISSN 1389-1286, http://dx.doi.org/10.1016/j.comnet.2004.03.033.\n",
    "- http://www.cc.gatech.edu/computing/Networking/projects/cryptopan/Crypto-PAn.1.0.tar.gz\n",
    "- https://github.com/keiichishima/yacryptopan\n",
    "\n"
   ]
  },
  {
   "cell_type": "markdown",
   "metadata": {},
   "source": [
    "python ver 3 版"
   ]
  },
  {
   "cell_type": "code",
   "execution_count": 14,
   "metadata": {
    "collapsed": false
   },
   "outputs": [
    {
     "name": "stdout",
     "output_type": "stream",
     "text": [
      "Orig IP(192.0.2.1,3221225985): 192.0.2.1\n",
      "Ano IP(2.90.93.17,39476497): 2.90.93.17\n",
      "Orig IP(2001:db8::1,42540766411282592856903984951653826561): 2001:db8::1\n",
      "Ano IP(dd92:2c44:3fc0:ff1e:7ff9:c7f0:8180:7e00): dd92:2c44:3fc0:ff1e:7ff9:c7f0:8180:7e00\n"
     ]
    }
   ],
   "source": [
    "import Crypto.Cipher.AES\n",
    "import ipaddress\n",
    "import functools\n",
    "\n",
    "#Orig IP: 192.168.0.1\n",
    "#Ano IP: 2.149.253.242\n",
    "  \n",
    "\n",
    "class CryptoPAn:\n",
    "    def __init__(self,key):\n",
    "        self._init(key)\n",
    "\n",
    "    def _init(self,key):\n",
    "        self._cipher = Crypto.Cipher.AES.new(key[:16],Crypto.Cipher.AES.MODE_ECB)\n",
    "        self._padding_int = int.from_bytes(self._cipher.encrypt(key[16:]),'big')\n",
    "        \n",
    "    def changeKey(slef,key):\n",
    "        self._init(key)\n",
    "    \n",
    "    def MSB(self,byte_array):\n",
    "        n = byte_array[0] >> 7\n",
    "        return n\n",
    "    \n",
    "    def LSB(self,byte_array):\n",
    "        n = int.from_bytes(byte_array,'big')\n",
    "        return n & 1\n",
    "\n",
    "    def anonymize(self,addr,version,priv):\n",
    "        if version == 4:\n",
    "            N = 32\n",
    "            ext_addr = addr << 96\n",
    "        elif version == 6:\n",
    "            N = 128\n",
    "            ext_addr = addr \n",
    "         \n",
    "        flip_array = []\n",
    "        \n",
    "        if priv > N:\n",
    "            priv = N\n",
    "        \n",
    "        for pos in range(N):\n",
    "            prefix =  ext_addr >> (128-pos) << (128-pos) \n",
    "            padded_addr = prefix | (self._padding_int & (2**128-1 >> pos))\n",
    "            self._input = padded_addr.to_bytes(16,'big')\n",
    "            output = self._cipher.encrypt(bytes(self._input))\n",
    "            # 論文だとLSBだけど実装はMSB\n",
    "            flip_array.append(self.MSB(output))\n",
    "            #flip_array.append(self.LSB(output))\n",
    "        result = functools.reduce(lambda x, y: (x << 1) | y, flip_array)\n",
    "        \n",
    "        anonymizedIP = addr ^ (result & (2**N-1<<(N-priv)))\n",
    "        return anonymizedIP\n",
    "    \n",
    "if __name__ == '__main__' :\n",
    "    # 192.0.2.1 > 2.90.93.17\n",
    "    # 2001:db8::1 > dd92:2c44:3fc0:ff1e:7ff9:c7f0:8180:7e00\n",
    "    key=range(32)\n",
    "    obj = CryptoPAn(bytes(key))\n",
    "    orig_addr = '192.0.2.1'\n",
    "    ip = ipaddress.ip_address(orig_addr)\n",
    "    aip = obj.anonymize(int(ip),4,32)\n",
    "    anonymizedIP = ipaddress.IPv4Address(aip)\n",
    "    print (\"Orig IP(192.0.2.1,3221225985):\",ip)\n",
    "    print (\"Ano IP(2.90.93.17,39476497):\",anonymizedIP)\n",
    "    orig_addr = '2001:db8::1'\n",
    "    ip = ipaddress.ip_address(orig_addr)\n",
    "    aip = obj.anonymize(int(ip),6,128)\n",
    "    anonymizedIP = ipaddress.IPv6Address(aip) \n",
    "    print (\"Orig IP(2001:db8::1,42540766411282592856903984951653826561):\",ip)\n",
    "    print (\"Ano IP(dd92:2c44:3fc0:ff1e:7ff9:c7f0:8180:7e00):\",anonymizedIP)  \n",
    "\n",
    "        "
   ]
  },
  {
   "cell_type": "code",
   "execution_count": null,
   "metadata": {
    "collapsed": true
   },
   "outputs": [],
   "source": []
  }
 ],
 "metadata": {
  "kernelspec": {
   "display_name": "Python 3",
   "language": "python",
   "name": "python3"
  },
  "language_info": {
   "codemirror_mode": {
    "name": "ipython",
    "version": 3
   },
   "file_extension": ".py",
   "mimetype": "text/x-python",
   "name": "python",
   "nbconvert_exporter": "python",
   "pygments_lexer": "ipython3",
   "version": "3.6.0"
  }
 },
 "nbformat": 4,
 "nbformat_minor": 0
}
