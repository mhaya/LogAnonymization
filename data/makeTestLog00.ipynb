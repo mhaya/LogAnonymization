{
 "cells": [
  {
   "cell_type": "markdown",
   "metadata": {},
   "source": [
    "# テスト用ログデータ生成\n",
    "## 0 から 2**32-1 の範囲で乱数を生成する"
   ]
  },
  {
   "cell_type": "code",
   "execution_count": 11,
   "metadata": {
    "collapsed": false
   },
   "outputs": [
    {
     "data": {
      "text/plain": [
       "2748654264"
      ]
     },
     "execution_count": 11,
     "metadata": {},
     "output_type": "execute_result"
    }
   ],
   "source": [
    "import numpy\n",
    "numpy.random.randint(0,2**32-1)"
   ]
  },
  {
   "cell_type": "markdown",
   "metadata": {},
   "source": [
    "## IPv4アドレスをランダムに生成する"
   ]
  },
  {
   "cell_type": "code",
   "execution_count": 12,
   "metadata": {
    "collapsed": false
   },
   "outputs": [
    {
     "data": {
      "text/plain": [
       "'178.82.245.64'"
      ]
     },
     "execution_count": 12,
     "metadata": {},
     "output_type": "execute_result"
    }
   ],
   "source": [
    "import socket\n",
    "import struct\n",
    "\n",
    "\n",
    "addr = numpy.random.randint(0,2**32-1)\n",
    "socket.inet_ntoa(struct.pack(\"!I\", addr)) "
   ]
  },
  {
   "cell_type": "markdown",
   "metadata": {},
   "source": [
    "## 日付を生成する"
   ]
  },
  {
   "cell_type": "code",
   "execution_count": 16,
   "metadata": {
    "collapsed": false
   },
   "outputs": [
    {
     "name": "stdout",
     "output_type": "stream",
     "text": [
      "2017-03-27 10:45:39.349400\n"
     ]
    }
   ],
   "source": [
    "import datetime\n",
    "now = datetime.datetime.utcnow()\n",
    "print(now)"
   ]
  },
  {
   "cell_type": "code",
   "execution_count": 18,
   "metadata": {
    "collapsed": false
   },
   "outputs": [
    {
     "data": {
      "text/plain": [
       "1490579139"
      ]
     },
     "execution_count": 18,
     "metadata": {},
     "output_type": "execute_result"
    }
   ],
   "source": [
    "now.timestamp()\n",
    "int(now.timestamp())"
   ]
  },
  {
   "cell_type": "code",
   "execution_count": 19,
   "metadata": {
    "collapsed": false
   },
   "outputs": [
    {
     "data": {
      "text/plain": [
       "datetime.datetime(1970, 1, 1, 0, 0)"
      ]
     },
     "execution_count": 19,
     "metadata": {},
     "output_type": "execute_result"
    }
   ],
   "source": [
    "datetime.datetime.utcfromtimestamp(0)"
   ]
  },
  {
   "cell_type": "markdown",
   "metadata": {},
   "source": [
    "## ログデータを生成する（日時, src IP, dest IP,src port, dst port, byte)"
   ]
  },
  {
   "cell_type": "code",
   "execution_count": 36,
   "metadata": {
    "collapsed": false
   },
   "outputs": [],
   "source": [
    "import datetime\n",
    "import numpy\n",
    "import socket\n",
    "import struct\n",
    "import csv\n",
    "\n",
    "now = datetime.datetime.utcnow()\n",
    "start = int(now.timestamp())\n",
    "\n",
    "with open('testlog.csv', 'w') as f:\n",
    "    writer = csv.writer(f, lineterminator='\\n') \n",
    "    for i in range(60):\n",
    "        for j in range(numpy.random.randint(1,10)):\n",
    "            src = socket.inet_ntoa(struct.pack(\"!I\", numpy.random.randint(0,2**32-1))) \n",
    "            sport = numpy.random.randint(0,65535)\n",
    "            dst = socket.inet_ntoa(struct.pack(\"!I\", numpy.random.randint(0,2**32-1)))\n",
    "            dport = numpy.random.randint(0,1023)\n",
    "            for k in range(numpy.random.randint(1,10)):    \n",
    "                nbyte = numpy.random.randint(0,500*1024)\n",
    "                list = []\n",
    "                list.append(start+i)\n",
    "                list.append(src)\n",
    "                list.append(dst)\n",
    "                list.append(sport)\n",
    "                list.append(dport)\n",
    "                list.append(nbyte)\n",
    "                writer.writerow(list)\n",
    "            "
   ]
  },
  {
   "cell_type": "code",
   "execution_count": null,
   "metadata": {
    "collapsed": true
   },
   "outputs": [],
   "source": []
  }
 ],
 "metadata": {
  "kernelspec": {
   "display_name": "Python 3",
   "language": "python",
   "name": "python3"
  },
  "language_info": {
   "codemirror_mode": {
    "name": "ipython",
    "version": 3
   },
   "file_extension": ".py",
   "mimetype": "text/x-python",
   "name": "python",
   "nbconvert_exporter": "python",
   "pygments_lexer": "ipython3",
   "version": "3.6.0"
  }
 },
 "nbformat": 4,
 "nbformat_minor": 2
}
