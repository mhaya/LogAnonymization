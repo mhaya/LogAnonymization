{
 "cells": [
  {
   "cell_type": "markdown",
   "metadata": {},
   "source": [
    "# テスト用ログデータ生成\n",
    "## 0 から 2**32-1 の範囲で乱数を生成する"
   ]
  },
  {
   "cell_type": "code",
   "execution_count": 11,
   "metadata": {
    "collapsed": false
   },
   "outputs": [
    {
     "data": {
      "text/plain": [
       "2748654264"
      ]
     },
     "execution_count": 11,
     "metadata": {},
     "output_type": "execute_result"
    }
   ],
   "source": [
    "import numpy\n",
    "numpy.random.randint(0,2**32-1)"
   ]
  },
  {
   "cell_type": "markdown",
   "metadata": {},
   "source": [
    "## IPv4アドレスをランダムに生成する"
   ]
  },
  {
   "cell_type": "code",
   "execution_count": 71,
   "metadata": {
    "collapsed": false
   },
   "outputs": [
    {
     "data": {
      "text/plain": [
       "3232235520"
      ]
     },
     "execution_count": 71,
     "metadata": {},
     "output_type": "execute_result"
    }
   ],
   "source": [
    "import socket\n",
    "import struct\n",
    "\n",
    "\n",
    "addr = numpy.random.randint(0,2**32-1)\n",
    "socket.inet_ntoa(struct.pack(\"!I\", addr)) \n",
    "\n",
    "struct.unpack(\"!I\", socket.inet_aton('192.168.0.0'))[0]"
   ]
  },
  {
   "cell_type": "markdown",
   "metadata": {},
   "source": [
    "## 日付を生成する"
   ]
  },
  {
   "cell_type": "code",
   "execution_count": 16,
   "metadata": {
    "collapsed": false
   },
   "outputs": [
    {
     "name": "stdout",
     "output_type": "stream",
     "text": [
      "2017-03-27 10:45:39.349400\n"
     ]
    }
   ],
   "source": [
    "import datetime\n",
    "now = datetime.datetime.utcnow()\n",
    "print(now)"
   ]
  },
  {
   "cell_type": "code",
   "execution_count": 18,
   "metadata": {
    "collapsed": false
   },
   "outputs": [
    {
     "data": {
      "text/plain": [
       "1490579139"
      ]
     },
     "execution_count": 18,
     "metadata": {},
     "output_type": "execute_result"
    }
   ],
   "source": [
    "now.timestamp()\n",
    "int(now.timestamp())"
   ]
  },
  {
   "cell_type": "code",
   "execution_count": 19,
   "metadata": {
    "collapsed": false
   },
   "outputs": [
    {
     "data": {
      "text/plain": [
       "datetime.datetime(1970, 1, 1, 0, 0)"
      ]
     },
     "execution_count": 19,
     "metadata": {},
     "output_type": "execute_result"
    }
   ],
   "source": [
    "datetime.datetime.utcfromtimestamp(0)"
   ]
  },
  {
   "cell_type": "markdown",
   "metadata": {},
   "source": [
    "## ログデータを生成する（日時, src IP, dest IP,src port, dst port, byte)"
   ]
  },
  {
   "cell_type": "code",
   "execution_count": 81,
   "metadata": {
    "collapsed": false
   },
   "outputs": [
    {
     "ename": "NameError",
     "evalue": "name 'FALSE' is not defined",
     "output_type": "error",
     "traceback": [
      "\u001b[0;31m---------------------------------------------------------------------------\u001b[0m",
      "\u001b[0;31mNameError\u001b[0m                                 Traceback (most recent call last)",
      "\u001b[0;32m<ipython-input-81-472b8bd9ba0b>\u001b[0m in \u001b[0;36m<module>\u001b[0;34m()\u001b[0m\n\u001b[1;32m     47\u001b[0m             \u001b[0mdf\u001b[0m\u001b[0;34m.\u001b[0m\u001b[0mloc\u001b[0m\u001b[0;34m[\u001b[0m\u001b[0mcounter\u001b[0m\u001b[0;34m]\u001b[0m \u001b[0;34m=\u001b[0m \u001b[0;34m[\u001b[0m\u001b[0mstart\u001b[0m\u001b[0;34m+\u001b[0m\u001b[0moffset\u001b[0m\u001b[0;34m+\u001b[0m\u001b[0mi\u001b[0m\u001b[0;34m,\u001b[0m\u001b[0msrc\u001b[0m\u001b[0;34m,\u001b[0m\u001b[0mdst\u001b[0m\u001b[0;34m,\u001b[0m\u001b[0msport\u001b[0m\u001b[0;34m,\u001b[0m\u001b[0mdport\u001b[0m\u001b[0;34m,\u001b[0m\u001b[0mnbyte\u001b[0m\u001b[0;34m]\u001b[0m\u001b[0;34m\u001b[0m\u001b[0m\n\u001b[1;32m     48\u001b[0m \u001b[0mdf\u001b[0m \u001b[0;34m=\u001b[0m \u001b[0mdf\u001b[0m\u001b[0;34m.\u001b[0m\u001b[0msort_values\u001b[0m\u001b[0;34m(\u001b[0m\u001b[0mby\u001b[0m\u001b[0;34m=\u001b[0m\u001b[0;34m'time'\u001b[0m\u001b[0;34m)\u001b[0m\u001b[0;34m\u001b[0m\u001b[0m\n\u001b[0;32m---> 49\u001b[0;31m \u001b[0mdf\u001b[0m\u001b[0;34m.\u001b[0m\u001b[0mto_csv\u001b[0m\u001b[0;34m(\u001b[0m\u001b[0;34m'tmp/testlog.log'\u001b[0m\u001b[0;34m,\u001b[0m\u001b[0mindex\u001b[0m\u001b[0;34m=\u001b[0m\u001b[0mFALSE\u001b[0m\u001b[0;34m)\u001b[0m\u001b[0;34m\u001b[0m\u001b[0m\n\u001b[0m",
      "\u001b[0;31mNameError\u001b[0m: name 'FALSE' is not defined"
     ]
    }
   ],
   "source": [
    "import pandas as pd\n",
    "import datetime\n",
    "import numpy\n",
    "import socket\n",
    "import struct\n",
    "import csv\n",
    "import time\n",
    "\n",
    "now = datetime.datetime.utcnow()\n",
    "# python3\n",
    "# start = int(now.timestamp())\n",
    "# python2\n",
    "start = int(time.mktime(now.timetuple()))\n",
    "\n",
    "ipmin = 0\n",
    "ipmax = 2**32-1\n",
    "\n",
    "ipmin = struct.unpack(\"!I\", socket.inet_aton('192.168.0.0'))[0]\n",
    "ipmax = struct.unpack(\"!I\", socket.inet_aton('192.168.10.255'))[0]\n",
    "offset=0\n",
    "df = pd.DataFrame(columns=['time','src','dst','sport','dport','byte'])\n",
    "counter = 0\n",
    "for i in range(60):\n",
    "    for j in range(numpy.random.randint(1,100)):\n",
    "        src = numpy.random.randint(ipmin,ipmax)\n",
    "        sport = numpy.random.randint(0,65535)\n",
    "        dst =  numpy.random.randint(ipmin,ipmax)\n",
    "        dport = numpy.random.randint(0,1023)\n",
    "        for k in range(numpy.random.randint(1,10)):\n",
    "            counter+=1\n",
    "            nbyte = numpy.random.randint(0,500*1024)\n",
    "            df.loc[counter] = [start+offset+i,src,dst,sport,dport,nbyte]\n",
    "\n",
    "ipmin = struct.unpack(\"!I\", socket.inet_aton('192.168.1.0'))[0]\n",
    "ipmax = struct.unpack(\"!I\", socket.inet_aton('192.168.1.255'))[0]\n",
    "\n",
    "offset = 30\n",
    "for i in range(10):\n",
    "    for j in range(numpy.random.randint(10,100)):\n",
    "        src = numpy.random.randint(ipmin,ipmax)\n",
    "        sport = numpy.random.randint(0,65535)\n",
    "        dst =  numpy.random.randint(ipmin,ipmax)\n",
    "        dport = numpy.random.randint(0,1023)\n",
    "        for k in range(numpy.random.randint(1,10)): \n",
    "            counter+=1\n",
    "            nbyte = numpy.random.randint(0,500*1024)\n",
    "            df.loc[counter] = [start+offset+i,src,dst,sport,dport,nbyte]\n",
    "            \n",
    "df = df.sort_values(by='time')\n",
    "df.to_csv('tmp/testlog.log',index=False)"
   ]
  },
  {
   "cell_type": "code",
   "execution_count": 83,
   "metadata": {
    "collapsed": false
   },
   "outputs": [
    {
     "data": {
      "text/plain": [
       "<matplotlib.axes._subplots.AxesSubplot at 0x117e84a90>"
      ]
     },
     "execution_count": 83,
     "metadata": {},
     "output_type": "execute_result"
    },
    {
     "data": {
      "image/png": "[encoded data removed]",
      "text/plain": [
       "<matplotlib.figure.Figure at 0x11d47d310>"
      ]
     },
     "metadata": {},
     "output_type": "display_data"
    }
   ],
   "source": [
    "import pandas as pd\n",
    "import numpy as np\n",
    "\n",
    "%matplotlib inline\n",
    "\n",
    "dfg = df.groupby('time')['src'].count()\n",
    "dfg.plot()\n",
    "\n"
   ]
  },
  {
   "cell_type": "code",
   "execution_count": 84,
   "metadata": {
    "collapsed": false
   },
   "outputs": [
    {
     "data": {
      "text/plain": [
       "<matplotlib.axes._subplots.AxesSubplot at 0x120bd85d0>"
      ]
     },
     "execution_count": 84,
     "metadata": {},
     "output_type": "execute_result"
    },
    {
     "data": {
      "image/png": "[encoded data removed]",
      "text/plain": [
       "<matplotlib.figure.Figure at 0x11f8d2450>"
      ]
     },
     "metadata": {},
     "output_type": "display_data"
    }
   ],
   "source": [
    "dfg = df.groupby('src')['src'].count()\n",
    "dfg.plot()\n"
   ]
  },
  {
   "cell_type": "code",
   "execution_count": 82,
   "metadata": {
    "collapsed": true
   },
   "outputs": [],
   "source": []
  },
  {
   "cell_type": "code",
   "execution_count": null,
   "metadata": {
    "collapsed": true
   },
   "outputs": [],
   "source": []
  }
 ],
 "metadata": {
  "kernelspec": {
   "display_name": "Python 2",
   "language": "python",
   "name": "python2"
  },
  "language_info": {
   "codemirror_mode": {
    "name": "ipython",
    "version": 2
   },
   "file_extension": ".py",
   "mimetype": "text/x-python",
   "name": "python",
   "nbconvert_exporter": "python",
   "pygments_lexer": "ipython2",
   "version": "2.7.13"
  }
 },
 "nbformat": 4,
 "nbformat_minor": 2
}
